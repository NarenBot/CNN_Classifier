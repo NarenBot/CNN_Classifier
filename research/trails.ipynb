{
 "cells": [],
 "metadata": {
  "kernelspec": {
   "display_name": "Python 3.9.6 64-bit",
   "language": "python",
   "name": "python3"
  },
  "language_info": {
   "codemirror_mode": {
    "name": "ipython",
    "version": 3
   },
   "file_extension": ".py",
   "mimetype": "text/x-python",
   "name": "python",
   "nbconvert_exporter": "python",
   "pygments_lexer": "ipython3",
   "version": "3.9.6"
  },
  "orig_nbformat": 4,
  "vscode": {
   "interpreter": {
    "hash": "541414b24a3b84bd9e0ecfa6d8acc4faa12453ee32a2c836159326a76359fe5c"
   }
  }
 },
 "nbformat": 4,
 "nbformat_minor": 2
}
